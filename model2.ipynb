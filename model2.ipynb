{
 "cells": [
  {
   "cell_type": "code",
   "execution_count": 1,
   "metadata": {
    "colab": {
     "base_uri": "https://localhost:8080/",
     "height": 34
    },
    "colab_type": "code",
    "id": "mmKcfTrxcIc7",
    "outputId": "2577ced6-34f3-44c5-caea-e1ee33e18f3c"
   },
   "outputs": [
    {
     "name": "stderr",
     "output_type": "stream",
     "text": [
      "Using TensorFlow backend.\n"
     ]
    }
   ],
   "source": [
    "import numpy as np \n",
    "import keras\n",
    "import matplotlib.pyplot as plt\n",
    "from keras import backend as K\n",
    "from keras.models import Sequential\n",
    "from keras.layers import Dense, Conv2D, Flatten, MaxPool2D ,MaxPooling2D, Dropout\n",
    "from keras.optimizers import Adam,SGD,Adagrad,Adadelta,RMSprop\n",
    "from keras.utils import to_categorical"
   ]
  },
  {
   "cell_type": "code",
   "execution_count": 0,
   "metadata": {
    "colab": {},
    "colab_type": "code",
    "id": "55l2CsSOcPJB"
   },
   "outputs": [],
   "source": [
    "train_X = np.load('/content/drive/My Drive/clothing_pred/train_photos.npy')\n",
    "train_Y = np.load('/content/drive/My Drive/clothing_pred/train_labels.npy')\n",
    "test_X = np.load('/content/drive/My Drive/clothing_pred/test_photos.npy')\n",
    "test_Y = np.load('/content/drive/My Drive/clothing_pred/test_labels.npy')"
   ]
  },
  {
   "cell_type": "code",
   "execution_count": 0,
   "metadata": {
    "colab": {},
    "colab_type": "code",
    "id": "P7y6AeKIcPLI"
   },
   "outputs": [],
   "source": [
    "train_Y = to_categorical(train_Y)\n",
    "train_Y.shape\n",
    "train_y= train_Y[:,1:]\n",
    "test_Y = to_categorical(test_Y)\n",
    "test_Y.shape\n",
    "test_y= test_Y[:,1:]"
   ]
  },
  {
   "cell_type": "code",
   "execution_count": 0,
   "metadata": {
    "colab": {},
    "colab_type": "code",
    "id": "La2bEMYIcPNV"
   },
   "outputs": [],
   "source": [
    "input_shape=(227,227,3)\n",
    "import tensorflow as tf"
   ]
  },
  {
   "cell_type": "code",
   "execution_count": 0,
   "metadata": {
    "colab": {},
    "colab_type": "code",
    "id": "u0pggwXicPPu"
   },
   "outputs": [],
   "source": [
    "model = Sequential()\n",
    "model.add(Conv2D(filters=96, input_shape=(227,227,3), kernel_size=(11,11), strides=(4,4), padding=\"valid\", activation = \"relu\"))\n",
    "model.add(MaxPool2D(pool_size=(3,3), strides=(2,2), padding=\"valid\"))\n",
    "model.add(Conv2D(filters=256, kernel_size=(5,5), strides=(1,1), padding=\"valid\", activation = \"relu\"))\n",
    "model.add(MaxPool2D(pool_size=(3,3), strides=(2,2), padding=\"valid\"))\n",
    "model.add(Conv2D(filters=384, kernel_size=(3,3), strides=(1,1), padding=\"valid\", activation = \"relu\"))\n",
    "model.add(MaxPool2D(pool_size=(3,3), strides=(2,2), padding=\"valid\"))\n",
    "model.add(Conv2D(filters=384, kernel_size=(3,3), strides=(1,1), padding=\"valid\", activation = \"relu\"))\n",
    "model.add(Dropout(0.5))\n",
    "model.add(Flatten())\n",
    "model.add(Dense(units = 9216, activation = \"relu\"))\n",
    "model.add(Dense(5, activation = \"softmax\"))"
   ]
  },
  {
   "cell_type": "code",
   "execution_count": 8,
   "metadata": {
    "colab": {
     "base_uri": "https://localhost:8080/",
     "height": 527
    },
    "colab_type": "code",
    "id": "5j82_-lBcPUZ",
    "outputId": "0e732bc8-4abf-44e8-d554-9d591f04883f"
   },
   "outputs": [
    {
     "name": "stdout",
     "output_type": "stream",
     "text": [
      "Model: \"sequential_2\"\n",
      "_________________________________________________________________\n",
      "Layer (type)                 Output Shape              Param #   \n",
      "=================================================================\n",
      "conv2d_3 (Conv2D)            (None, 55, 55, 96)        34944     \n",
      "_________________________________________________________________\n",
      "max_pooling2d_2 (MaxPooling2 (None, 27, 27, 96)        0         \n",
      "_________________________________________________________________\n",
      "conv2d_4 (Conv2D)            (None, 23, 23, 256)       614656    \n",
      "_________________________________________________________________\n",
      "max_pooling2d_3 (MaxPooling2 (None, 11, 11, 256)       0         \n",
      "_________________________________________________________________\n",
      "conv2d_5 (Conv2D)            (None, 9, 9, 384)         885120    \n",
      "_________________________________________________________________\n",
      "max_pooling2d_4 (MaxPooling2 (None, 4, 4, 384)         0         \n",
      "_________________________________________________________________\n",
      "conv2d_6 (Conv2D)            (None, 2, 2, 384)         1327488   \n",
      "_________________________________________________________________\n",
      "dropout_3 (Dropout)          (None, 2, 2, 384)         0         \n",
      "_________________________________________________________________\n",
      "flatten_2 (Flatten)          (None, 1536)              0         \n",
      "_________________________________________________________________\n",
      "dense_3 (Dense)              (None, 9216)              14164992  \n",
      "_________________________________________________________________\n",
      "dense_4 (Dense)              (None, 5)                 46085     \n",
      "=================================================================\n",
      "Total params: 17,073,285\n",
      "Trainable params: 17,073,285\n",
      "Non-trainable params: 0\n",
      "_________________________________________________________________\n"
     ]
    }
   ],
   "source": [
    "from keras.callbacks import EarlyStopping\n",
    "\n",
    "model.compile(loss='categorical_crossentropy',\n",
    "                  optimizer=Adam(lr=0.00001),\n",
    "                  metrics=['accuracy'])\n",
    "model.summary()"
   ]
  },
  {
   "cell_type": "code",
   "execution_count": 9,
   "metadata": {
    "colab": {
     "base_uri": "https://localhost:8080/",
     "height": 918
    },
    "colab_type": "code",
    "id": "zStaoPp4cPWu",
    "outputId": "c3c8a32c-5d86-4e30-daa5-0fc578fcab7b"
   },
   "outputs": [
    {
     "name": "stdout",
     "output_type": "stream",
     "text": [
      "Epoch 1/25\n",
      "7000/7000 [==============================] - 495s 71ms/step - loss: 1.7155 - accuracy: 0.5383\n",
      "Epoch 2/25\n"
     ]
    },
    {
     "name": "stderr",
     "output_type": "stream",
     "text": [
      "/usr/local/lib/python3.6/dist-packages/keras/callbacks/callbacks.py:846: RuntimeWarning: Early stopping conditioned on metric `val_loss` which is not available. Available metrics are: loss,accuracy\n",
      "  (self.monitor, ','.join(list(logs.keys()))), RuntimeWarning\n"
     ]
    },
    {
     "name": "stdout",
     "output_type": "stream",
     "text": [
      "7000/7000 [==============================] - 492s 70ms/step - loss: 0.6994 - accuracy: 0.7443\n",
      "Epoch 3/25\n",
      "7000/7000 [==============================] - 495s 71ms/step - loss: 0.5352 - accuracy: 0.8096\n",
      "Epoch 4/25\n",
      "7000/7000 [==============================] - 494s 71ms/step - loss: 0.4395 - accuracy: 0.8431\n",
      "Epoch 5/25\n",
      "7000/7000 [==============================] - 493s 70ms/step - loss: 0.3749 - accuracy: 0.8704\n",
      "Epoch 6/25\n",
      "7000/7000 [==============================] - 496s 71ms/step - loss: 0.3198 - accuracy: 0.8877\n",
      "Epoch 7/25\n",
      "7000/7000 [==============================] - 497s 71ms/step - loss: 0.3023 - accuracy: 0.8946\n",
      "Epoch 8/25\n",
      "7000/7000 [==============================] - 496s 71ms/step - loss: 0.2613 - accuracy: 0.9097\n",
      "Epoch 9/25\n",
      "7000/7000 [==============================] - 497s 71ms/step - loss: 0.2252 - accuracy: 0.9214\n",
      "Epoch 10/25\n",
      "7000/7000 [==============================] - 497s 71ms/step - loss: 0.2096 - accuracy: 0.9289\n",
      "Epoch 11/25\n",
      "7000/7000 [==============================] - 496s 71ms/step - loss: 0.1820 - accuracy: 0.9377\n",
      "Epoch 12/25\n",
      "7000/7000 [==============================] - 496s 71ms/step - loss: 0.1690 - accuracy: 0.9414\n",
      "Epoch 13/25\n",
      "7000/7000 [==============================] - 496s 71ms/step - loss: 0.1431 - accuracy: 0.9511\n",
      "Epoch 14/25\n",
      "7000/7000 [==============================] - 503s 72ms/step - loss: 0.1513 - accuracy: 0.9470\n",
      "Epoch 15/25\n",
      "7000/7000 [==============================] - 501s 72ms/step - loss: 0.1202 - accuracy: 0.9590\n",
      "Epoch 16/25\n",
      "7000/7000 [==============================] - 494s 71ms/step - loss: 0.1217 - accuracy: 0.9563\n",
      "Epoch 17/25\n",
      "7000/7000 [==============================] - 493s 70ms/step - loss: 0.1071 - accuracy: 0.9620\n",
      "Epoch 18/25\n",
      "7000/7000 [==============================] - 494s 71ms/step - loss: 0.1090 - accuracy: 0.9613\n",
      "Epoch 19/25\n",
      "7000/7000 [==============================] - 492s 70ms/step - loss: 0.1042 - accuracy: 0.9627\n",
      "Epoch 20/25\n",
      "7000/7000 [==============================] - 493s 70ms/step - loss: 0.0880 - accuracy: 0.9696\n",
      "Epoch 21/25\n",
      "7000/7000 [==============================] - 494s 71ms/step - loss: 0.0800 - accuracy: 0.9727\n",
      "Epoch 22/25\n",
      "7000/7000 [==============================] - 495s 71ms/step - loss: 0.0697 - accuracy: 0.9749\n",
      "Epoch 23/25\n",
      "7000/7000 [==============================] - 494s 71ms/step - loss: 0.0613 - accuracy: 0.9787\n",
      "Epoch 24/25\n",
      "7000/7000 [==============================] - 492s 70ms/step - loss: 0.0771 - accuracy: 0.9743\n",
      "Epoch 25/25\n",
      "7000/7000 [==============================] - 496s 71ms/step - loss: 0.0524 - accuracy: 0.9830\n"
     ]
    },
    {
     "data": {
      "text/plain": [
       "<keras.callbacks.callbacks.History at 0x7ff79a980d68>"
      ]
     },
     "execution_count": 9,
     "metadata": {
      "tags": []
     },
     "output_type": "execute_result"
    }
   ],
   "source": [
    "model.fit(train_X, train_y,\n",
    "              shuffle=True,\n",
    "              epochs=25,\n",
    "              callbacks=[EarlyStopping(min_delta=0.001, patience=3)])"
   ]
  },
  {
   "cell_type": "code",
   "execution_count": 10,
   "metadata": {
    "colab": {
     "base_uri": "https://localhost:8080/",
     "height": 34
    },
    "colab_type": "code",
    "id": "7FdWjLS4cPZI",
    "outputId": "1cac92db-2a9a-4465-e080-ea1dbe46859c"
   },
   "outputs": [
    {
     "name": "stdout",
     "output_type": "stream",
     "text": [
      "500/500 [==============================] - 9s 18ms/step\n"
     ]
    }
   ],
   "source": [
    "scores = model.evaluate(test_X,test_y)"
   ]
  },
  {
   "cell_type": "code",
   "execution_count": 11,
   "metadata": {
    "colab": {
     "base_uri": "https://localhost:8080/",
     "height": 51
    },
    "colab_type": "code",
    "id": "Zl3o183TcPbc",
    "outputId": "bd6e0603-cd95-405d-a625-95fd0bc561b3"
   },
   "outputs": [
    {
     "name": "stdout",
     "output_type": "stream",
     "text": [
      "Loss: 0.147\n",
      "Accuracy: 0.954\n"
     ]
    }
   ],
   "source": [
    "    print('Loss: %.3f' % scores[0])\n",
    "    print('Accuracy: %.3f' % scores[1])"
   ]
  },
  {
   "cell_type": "code",
   "execution_count": 0,
   "metadata": {
    "colab": {},
    "colab_type": "code",
    "id": "cSCme-xLcPdh"
   },
   "outputs": [],
   "source": [
    "from keras.models import load_model\n",
    "model.save('my_model2.h5')"
   ]
  },
  {
   "cell_type": "code",
   "execution_count": 0,
   "metadata": {
    "colab": {},
    "colab_type": "code",
    "id": "uTqHEWZqcPf4"
   },
   "outputs": [],
   "source": [
    "from keras.models import load_model\n",
    "model2 = load_model('my_model2.h5')"
   ]
  },
  {
   "cell_type": "code",
   "execution_count": 0,
   "metadata": {
    "colab": {},
    "colab_type": "code",
    "id": "xbriPLr5cPiJ"
   },
   "outputs": [],
   "source": [
    "predic =model.predict(test_X)"
   ]
  },
  {
   "cell_type": "code",
   "execution_count": 15,
   "metadata": {
    "colab": {
     "base_uri": "https://localhost:8080/",
     "height": 34
    },
    "colab_type": "code",
    "id": "iK-Caqf5cPjw",
    "outputId": "8d1b5bc3-aa0b-413e-a24b-da77d9cd91cd"
   },
   "outputs": [
    {
     "data": {
      "text/plain": [
       "(500, 5)"
      ]
     },
     "execution_count": 15,
     "metadata": {
      "tags": []
     },
     "output_type": "execute_result"
    }
   ],
   "source": [
    "predic.shape"
   ]
  },
  {
   "cell_type": "code",
   "execution_count": 21,
   "metadata": {
    "colab": {
     "base_uri": "https://localhost:8080/",
     "height": 51
    },
    "colab_type": "code",
    "id": "FajXJVD9mStW",
    "outputId": "e0e363c1-3702-4d8d-d811-2a583674a726"
   },
   "outputs": [
    {
     "data": {
      "text/plain": [
       "array([1.5726427e-03, 9.9831164e-01, 7.7383891e-05, 7.6445122e-06,\n",
       "       3.0661329e-05], dtype=float32)"
      ]
     },
     "execution_count": 21,
     "metadata": {
      "tags": []
     },
     "output_type": "execute_result"
    }
   ],
   "source": [
    "predic[143]"
   ]
  },
  {
   "cell_type": "code",
   "execution_count": 0,
   "metadata": {
    "colab": {},
    "colab_type": "code",
    "id": "B_sazXArmSvh"
   },
   "outputs": [],
   "source": [
    "y_pred = (predic > 0.8)"
   ]
  },
  {
   "cell_type": "code",
   "execution_count": 0,
   "metadata": {
    "colab": {},
    "colab_type": "code",
    "id": "k9kgeZMNcPnZ"
   },
   "outputs": [],
   "source": [
    "from sklearn.metrics import confusion_matrix\n",
    "matrix = confusion_matrix(test_y.argmax(axis=1), y_pred.argmax(axis=1))"
   ]
  },
  {
   "cell_type": "code",
   "execution_count": 24,
   "metadata": {
    "colab": {
     "base_uri": "https://localhost:8080/",
     "height": 102
    },
    "colab_type": "code",
    "id": "bADP0kK5me2_",
    "outputId": "e0024138-455e-45dc-b498-b3210fd38b61"
   },
   "outputs": [
    {
     "data": {
      "text/plain": [
       "array([[ 94,   0,   2,   0,   4],\n",
       "       [  3,  97,   0,   0,   0],\n",
       "       [  0,   0, 100,   0,   0],\n",
       "       [  5,   0,   1,  94,   0],\n",
       "       [  4,   0,   2,   2,  92]])"
      ]
     },
     "execution_count": 24,
     "metadata": {
      "tags": []
     },
     "output_type": "execute_result"
    }
   ],
   "source": [
    "matrix"
   ]
  },
  {
   "cell_type": "code",
   "execution_count": 0,
   "metadata": {
    "colab": {},
    "colab_type": "code",
    "id": "__a21AwXmfMz"
   },
   "outputs": [],
   "source": []
  },
  {
   "cell_type": "code",
   "execution_count": 0,
   "metadata": {
    "colab": {},
    "colab_type": "code",
    "id": "9ExzZa0lmfRR"
   },
   "outputs": [],
   "source": []
  }
 ],
 "metadata": {
  "colab": {
   "collapsed_sections": [],
   "name": "Untitled8.ipynb",
   "provenance": []
  },
  "kernelspec": {
   "display_name": "Python 3",
   "language": "python",
   "name": "python3"
  },
  "language_info": {
   "codemirror_mode": {
    "name": "ipython",
    "version": 3
   },
   "file_extension": ".py",
   "mimetype": "text/x-python",
   "name": "python",
   "nbconvert_exporter": "python",
   "pygments_lexer": "ipython3",
   "version": "3.6.9"
  }
 },
 "nbformat": 4,
 "nbformat_minor": 1
}
